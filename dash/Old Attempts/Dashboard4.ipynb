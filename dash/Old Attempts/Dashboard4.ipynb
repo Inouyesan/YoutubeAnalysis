{
 "cells": [
  {
   "cell_type": "code",
   "execution_count": 1,
   "metadata": {},
   "outputs": [],
   "source": [
    "# coding: utf-8\n",
    "\n",
    "import pandas as pd\n",
    "import os\n",
    "import csv\n",
    "import numpy as np\n",
    "import re\n",
    "import warnings\n",
    "warnings.filterwarnings('ignore')\n",
    "\n",
    "from sklearn.naive_bayes import MultinomialNB \n",
    "from sklearn.linear_model import LogisticRegression\n",
    "from sklearn import svm # support vector machine\n",
    "from sklearn import metrics # for accuracy/ precision\n",
    "from sklearn.model_selection import cross_val_score\n",
    "from sklearn.linear_model import SGDClassifier # Stochastic Gradient Descent\n",
    "from sklearn.neighbors import KNeighborsClassifier # k-NN ensemble method\n",
    "from sklearn.ensemble import RandomForestClassifier \n",
    "\n",
    "import nltk\n",
    "from nltk.tokenize import sent_tokenize, word_tokenize\n",
    "from nltk.corpus import stopwords\n",
    "# nltk.download('stopwords')\n",
    "from nltk.stem import PorterStemmer\n",
    "import sklearn # machine learning\n",
    "from sklearn.model_selection import train_test_split # splitting up data\n",
    "from sklearn.feature_extraction.text import TfidfVectorizer\n",
    "from sklearn.feature_extraction.text import TfidfTransformer\n",
    "\n",
    "path = '/Users/andiedonovan/myProjects/Youtube_Python_Project/AndiesBranch/'\n",
    "\n",
    "os.chdir(path) # change directory\n",
    "train_data = pd.read_csv('data/OKGOcomments.csv', delimiter=\";\", skiprows=2, encoding='latin-1', engine='python') # read in the data\n",
    "df = pd.read_csv('data/data.csv', delimiter=\"@@@\", skiprows=2, encoding='utf-8', engine='python') # read in the user's data\n",
    "df.columns = [\"comment\", \"label\"]\n",
    "\n",
    "train_data.columns = [\n",
    "  'label',\n",
    "  'comment','a','b'\n",
    "]\n",
    "train_data = train_data.drop(['a', 'b'], 1).dropna()\n",
    "for row in range(len(train_data)):\n",
    "    line = train_data.iloc[row,1]\n",
    "    train_data.iloc[row,1] = re.sub(\"[^a-zA-Z]\", \" \", line)\n",
    "\n",
    "df2 = df\n",
    "\n",
    "sw = stopwords.words('english')\n",
    "ps = PorterStemmer()\n",
    "lemmatizer = nltk.stem.WordNetLemmatizer()\n",
    "tfidf = TfidfVectorizer()\n",
    "\n",
    "df[\"comment\"]= df[\"comment\"].astype(str) \n",
    "\n",
    "for row in range(len(df)):\n",
    "        line = df.loc[row, \"comment\"]\n",
    "        #line = data.iloc[row,0]\n",
    "        df.loc[row,\"comment\"] = re.sub(\"[^a-zA-Z]\", \" \", line)\n",
    "\n",
    "labels = train_data['label']\n",
    "\n",
    "def nlpFunction(a):\n",
    "    a['com_token']=a['comment'].str.lower().str.split()\n",
    "    a['com_remv']=a['com_token'].apply(lambda x: [y for y in x if y not in sw])\n",
    "    a[\"com_lemma\"] = a['com_remv']         .apply(lambda x : [lemmatizer.lemmatize(y) for y in x]) # lemmatization\n",
    "    a['com_stem']=a['com_lemma']         .apply(lambda x : [ps.stem(y) for y in x]) # stemming\n",
    "    return df\n",
    "\n",
    "df = nlpFunction(df)\n",
    "\n",
    "train_data = nlpFunction(train_data)\n",
    "train_data['label'] = labels\n",
    "\n",
    "df[\"com_stem_str\"] = df[\"com_stem\"].apply(', '.join)\n",
    "train_data[\"com_stem_str\"] = train_data[\"com_stem\"].apply(', '.join)\n",
    "\n",
    "data = train_data.loc[0:len(train_data),[\"label\", \"comment\"]]\n",
    "data = train_data.dropna()\n",
    "\n",
    "X_train, X_test, Y_train, Y_test = train_test_split(\n",
    "                                    data[\"com_stem_str\"], data[\"label\"], \n",
    "                                    test_size=0.25, \n",
    "                                    random_state=42)\n",
    "\n",
    "\n",
    "tfidf = TfidfVectorizer()\n",
    "xtrain = tfidf.fit_transform(X_train) # transform and fit training data\n",
    "xtest = tfidf.transform(X_test) # transform test data from fitted transformer\n",
    "\n",
    "data_trans= tfidf.transform(data[\"com_stem_str\"]) # transform entire dataset for cross validation\n",
    "\n",
    "df_trans = tfidf.transform(df[\"com_stem_str\"])\n",
    "\n",
    "rs = 10\n",
    "lr = LogisticRegression(solver='sag', max_iter=100, random_state=rs, multi_class=\"multinomial\")\n",
    "mnb = MultinomialNB()\n",
    "svm = svm.SVC()\n",
    "rf = RandomForestClassifier(n_estimators=10, random_state=rs)\n",
    "knn = KNeighborsClassifier()\n",
    "models = ['lr', 'mnb', 'svm', 'rf', 'knn']\n",
    "\n",
    "labels = ['label_' + str(models[i]) for i in range(0,len(models))]\n",
    "predictions = [str(models[i])+\"_predict\" for i in range(0,len(models))]\n",
    "d = {}\n",
    "initModels = [lr, mnb, svm, rf, knn]\n",
    "for i in range(0,5):\n",
    "    initModels[i].fit(xtrain, Y_train)\n",
    "    d[predictions[i]] = initModels[i].predict(df_trans)\n",
    "\n",
    "\n",
    "Table = pd.DataFrame(columns=['comment', 'label_lr', 'label_mnb', 'label_svm', 'label_rf', 'label_knn'])\n",
    "for i in range(0, len(models)):\n",
    "    Table[labels[i]] = d[predictions[i]]\n",
    "\n",
    "Table['comment'] = df2['comment']\n",
    "\n",
    "#Ratios = pd.DataFrame(columns=['label_lr', 'label_mnb', 'label_svm', 'label_rf', 'label_knn'], \n",
    "#                      index=['Positive', 'Neutral', 'Negative'])\n",
    "\n",
    "\n"
   ]
  },
  {
   "cell_type": "code",
   "execution_count": 2,
   "metadata": {},
   "outputs": [],
   "source": [
    "Ratios = pd.DataFrame(columns=['label_lr', 'label_mnb', 'label_svm', 'label_rf', 'label_knn'], index=range(0,3))\n",
    "\n"
   ]
  },
  {
   "cell_type": "code",
   "execution_count": 3,
   "metadata": {},
   "outputs": [],
   "source": [
    "def RatioFinder(model): \n",
    "    pos = Table[Table[model]== 1.0]\n",
    "    neg = Table[Table[model]== -1.0]\n",
    "    neu = Table[Table[model]== 0.0]\n",
    "\n",
    "    pos_len = len(pos); neg_len = len(neg); neu_len = len(neu)\n",
    "\n",
    "    total = pos_len + neg_len + neu_len\n",
    "    \n",
    "    neg_ratio = round(neg_len / float(total), 2) * 100\n",
    "    pos_ratio = round(pos_len / float(total), 2) * 100\n",
    "    neu_ratio = round(neu_len / float(total), 2) * 100\n",
    "    \n",
    "    ratios = [pos_ratio, neu_ratio, neg_ratio]\n",
    "    \n",
    "    return ratios\n"
   ]
  },
  {
   "cell_type": "code",
   "execution_count": 4,
   "metadata": {},
   "outputs": [
    {
     "data": {
      "text/html": [
       "<div>\n",
       "<style scoped>\n",
       "    .dataframe tbody tr th:only-of-type {\n",
       "        vertical-align: middle;\n",
       "    }\n",
       "\n",
       "    .dataframe tbody tr th {\n",
       "        vertical-align: top;\n",
       "    }\n",
       "\n",
       "    .dataframe thead th {\n",
       "        text-align: right;\n",
       "    }\n",
       "</style>\n",
       "<table border=\"1\" class=\"dataframe\">\n",
       "  <thead>\n",
       "    <tr style=\"text-align: right;\">\n",
       "      <th></th>\n",
       "      <th>label_lr</th>\n",
       "      <th>label_mnb</th>\n",
       "      <th>label_svm</th>\n",
       "      <th>label_rf</th>\n",
       "      <th>label_knn</th>\n",
       "    </tr>\n",
       "  </thead>\n",
       "  <tbody>\n",
       "    <tr>\n",
       "      <th>0</th>\n",
       "      <td>NaN</td>\n",
       "      <td>NaN</td>\n",
       "      <td>NaN</td>\n",
       "      <td>NaN</td>\n",
       "      <td>NaN</td>\n",
       "    </tr>\n",
       "    <tr>\n",
       "      <th>1</th>\n",
       "      <td>NaN</td>\n",
       "      <td>NaN</td>\n",
       "      <td>NaN</td>\n",
       "      <td>NaN</td>\n",
       "      <td>NaN</td>\n",
       "    </tr>\n",
       "    <tr>\n",
       "      <th>2</th>\n",
       "      <td>NaN</td>\n",
       "      <td>NaN</td>\n",
       "      <td>NaN</td>\n",
       "      <td>NaN</td>\n",
       "      <td>NaN</td>\n",
       "    </tr>\n",
       "  </tbody>\n",
       "</table>\n",
       "</div>"
      ],
      "text/plain": [
       "  label_lr label_mnb label_svm label_rf label_knn\n",
       "0      NaN       NaN       NaN      NaN       NaN\n",
       "1      NaN       NaN       NaN      NaN       NaN\n",
       "2      NaN       NaN       NaN      NaN       NaN"
      ]
     },
     "execution_count": 4,
     "metadata": {},
     "output_type": "execute_result"
    }
   ],
   "source": [
    "Ratios"
   ]
  },
  {
   "cell_type": "code",
   "execution_count": 5,
   "metadata": {},
   "outputs": [],
   "source": [
    "for i in range(0,3):\n",
    "        for j in range(0,5):\n",
    "            Ratios.iloc[i,j] = RatioFinder(labels[j])[i]\n",
    "\n",
    "\n"
   ]
  },
  {
   "cell_type": "code",
   "execution_count": 6,
   "metadata": {},
   "outputs": [
    {
     "data": {
      "text/html": [
       "<div>\n",
       "<style scoped>\n",
       "    .dataframe tbody tr th:only-of-type {\n",
       "        vertical-align: middle;\n",
       "    }\n",
       "\n",
       "    .dataframe tbody tr th {\n",
       "        vertical-align: top;\n",
       "    }\n",
       "\n",
       "    .dataframe thead th {\n",
       "        text-align: right;\n",
       "    }\n",
       "</style>\n",
       "<table border=\"1\" class=\"dataframe\">\n",
       "  <thead>\n",
       "    <tr style=\"text-align: right;\">\n",
       "      <th></th>\n",
       "      <th>label_lr</th>\n",
       "      <th>label_mnb</th>\n",
       "      <th>label_svm</th>\n",
       "      <th>label_rf</th>\n",
       "      <th>label_knn</th>\n",
       "    </tr>\n",
       "  </thead>\n",
       "  <tbody>\n",
       "    <tr>\n",
       "      <th>0</th>\n",
       "      <td>48</td>\n",
       "      <td>49</td>\n",
       "      <td>100</td>\n",
       "      <td>47</td>\n",
       "      <td>32</td>\n",
       "    </tr>\n",
       "    <tr>\n",
       "      <th>1</th>\n",
       "      <td>39</td>\n",
       "      <td>42</td>\n",
       "      <td>0</td>\n",
       "      <td>34</td>\n",
       "      <td>30</td>\n",
       "    </tr>\n",
       "    <tr>\n",
       "      <th>2</th>\n",
       "      <td>13</td>\n",
       "      <td>9</td>\n",
       "      <td>0</td>\n",
       "      <td>19</td>\n",
       "      <td>38</td>\n",
       "    </tr>\n",
       "  </tbody>\n",
       "</table>\n",
       "</div>"
      ],
      "text/plain": [
       "   label_lr  label_mnb  label_svm  label_rf  label_knn\n",
       "0        48         49        100        47         32\n",
       "1        39         42          0        34         30\n",
       "2        13          9          0        19         38"
      ]
     },
     "execution_count": 6,
     "metadata": {},
     "output_type": "execute_result"
    }
   ],
   "source": [
    "Ratios"
   ]
  },
  {
   "cell_type": "code",
   "execution_count": 7,
   "metadata": {},
   "outputs": [],
   "source": [
    "df = Ratios\n",
    "model_options = list(Ratios)\n"
   ]
  },
  {
   "cell_type": "code",
   "execution_count": 11,
   "metadata": {},
   "outputs": [
    {
     "data": {
      "text/plain": [
       "['label_lr', 'label_mnb', 'label_svm', 'label_rf', 'label_knn']"
      ]
     },
     "execution_count": 11,
     "metadata": {},
     "output_type": "execute_result"
    }
   ],
   "source": [
    "model_options"
   ]
  },
  {
   "cell_type": "code",
   "execution_count": 8,
   "metadata": {},
   "outputs": [
    {
     "data": {
      "text/plain": [
       "0    48\n",
       "1    39\n",
       "2    13\n",
       "Name: label_lr, dtype: int64"
      ]
     },
     "execution_count": 8,
     "metadata": {},
     "output_type": "execute_result"
    }
   ],
   "source": [
    "df[\"label_lr\"]"
   ]
  },
  {
   "cell_type": "code",
   "execution_count": 16,
   "metadata": {},
   "outputs": [],
   "source": [
    "all_models = pd.DataFrame(columns=['average'], index=range(0,3))\n",
    "all_models[\"average\"]= df.mean(axis=1)"
   ]
  },
  {
   "cell_type": "code",
   "execution_count": 18,
   "metadata": {},
   "outputs": [],
   "source": [
    "all_models[\"average\"]= df.mean(axis=1)"
   ]
  },
  {
   "cell_type": "code",
   "execution_count": 19,
   "metadata": {},
   "outputs": [
    {
     "data": {
      "text/html": [
       "<div>\n",
       "<style scoped>\n",
       "    .dataframe tbody tr th:only-of-type {\n",
       "        vertical-align: middle;\n",
       "    }\n",
       "\n",
       "    .dataframe tbody tr th {\n",
       "        vertical-align: top;\n",
       "    }\n",
       "\n",
       "    .dataframe thead th {\n",
       "        text-align: right;\n",
       "    }\n",
       "</style>\n",
       "<table border=\"1\" class=\"dataframe\">\n",
       "  <thead>\n",
       "    <tr style=\"text-align: right;\">\n",
       "      <th></th>\n",
       "      <th>average</th>\n",
       "    </tr>\n",
       "  </thead>\n",
       "  <tbody>\n",
       "    <tr>\n",
       "      <th>0</th>\n",
       "      <td>55.2</td>\n",
       "    </tr>\n",
       "    <tr>\n",
       "      <th>1</th>\n",
       "      <td>29.0</td>\n",
       "    </tr>\n",
       "    <tr>\n",
       "      <th>2</th>\n",
       "      <td>15.8</td>\n",
       "    </tr>\n",
       "  </tbody>\n",
       "</table>\n",
       "</div>"
      ],
      "text/plain": [
       "   average\n",
       "0     55.2\n",
       "1     29.0\n",
       "2     15.8"
      ]
     },
     "execution_count": 19,
     "metadata": {},
     "output_type": "execute_result"
    }
   ],
   "source": [
    "all_models"
   ]
  },
  {
   "cell_type": "code",
   "execution_count": 9,
   "metadata": {},
   "outputs": [],
   "source": [
    "df_plot = df[\"label_lr\"]\n",
    "import plotly.plotly as py\n",
    "import plotly.graph_objs as go"
   ]
  },
  {
   "cell_type": "code",
   "execution_count": 20,
   "metadata": {},
   "outputs": [
    {
     "data": {
      "text/plain": [
       "\"\\n    return {\\n        'data': trace,\\n        'layout':\\n        go.Layout(\\n            title='Customer Order Status for {}'.format(Manager))}\\n\""
      ]
     },
     "execution_count": 20,
     "metadata": {},
     "output_type": "execute_result"
    }
   ],
   "source": [
    "def update_graph(Manager):\n",
    "    if Manager == \"All Managers\":\n",
    "        df_plot = all_models[\"average\"]\n",
    "    else:\n",
    "        df_plot = df[str(Manager)]\n",
    "\n",
    "    trace = go.Pie(labels=[\"Positive\", \"Negative\",\"Neutral\"], values=list(df_plot), name='MyModel')\n",
    "    return trace\n",
    "'''\n",
    "    return {\n",
    "        'data': trace,\n",
    "        'layout':\n",
    "        go.Layout(\n",
    "            title='Customer Order Status for {}'.format(Manager))}\n",
    "'''\n",
    "    "
   ]
  },
  {
   "cell_type": "code",
   "execution_count": 23,
   "metadata": {},
   "outputs": [
    {
     "ename": "NameError",
     "evalue": "name 'label_lr' is not defined",
     "output_type": "error",
     "traceback": [
      "\u001b[0;31m---------------------------------------------------------------------------\u001b[0m",
      "\u001b[0;31mNameError\u001b[0m                                 Traceback (most recent call last)",
      "\u001b[0;32m<ipython-input-23-78f93e2fc6f0>\u001b[0m in \u001b[0;36m<module>\u001b[0;34m()\u001b[0m\n\u001b[0;32m----> 1\u001b[0;31m \u001b[0mlist\u001b[0m\u001b[0;34m(\u001b[0m\u001b[0mdf\u001b[0m\u001b[0;34m[\u001b[0m\u001b[0mstr\u001b[0m\u001b[0;34m(\u001b[0m\u001b[0mlabel_lr\u001b[0m\u001b[0;34m)\u001b[0m\u001b[0;34m]\u001b[0m\u001b[0;34m)\u001b[0m\u001b[0;34m\u001b[0m\u001b[0m\n\u001b[0m",
      "\u001b[0;31mNameError\u001b[0m: name 'label_lr' is not defined"
     ]
    }
   ],
   "source": [
    "list(df[str(label_lr)])"
   ]
  },
  {
   "cell_type": "code",
   "execution_count": 25,
   "metadata": {},
   "outputs": [
    {
     "data": {
      "text/html": [
       "<iframe id=\"igraph\" scrolling=\"no\" style=\"border:none;\" seamless=\"seamless\" src=\"https://plot.ly/~adonovan7/33.embed\" height=\"525px\" width=\"100%\"></iframe>"
      ],
      "text/plain": [
       "<plotly.tools.PlotlyDisplay object>"
      ]
     },
     "execution_count": 25,
     "metadata": {},
     "output_type": "execute_result"
    }
   ],
   "source": [
    "trace = update_graph(\"All Managers\")\n",
    "py.iplot([trace], filename='basic_pie_chart')"
   ]
  },
  {
   "cell_type": "code",
   "execution_count": 32,
   "metadata": {},
   "outputs": [],
   "source": [
    "def update_graph(Manager):\n",
    "    if Manager == \"All Managers\":\n",
    "        #df_plot = all_models[\"average\"]\n",
    "        values = all_models[\"average\"]\n",
    "    else:\n",
    "        #df_plot = df[str(Manager)]\n",
    "        values= list(df_plot)\n",
    "\n",
    "    trace = go.Pie(labels=[\"Positive\", \"Negative\",\"Neutral\"], values=values, name='MyModel')\n",
    "    return trace "
   ]
  },
  {
   "cell_type": "code",
   "execution_count": 33,
   "metadata": {},
   "outputs": [
    {
     "data": {
      "text/html": [
       "<iframe id=\"igraph\" scrolling=\"no\" style=\"border:none;\" seamless=\"seamless\" src=\"https://plot.ly/~adonovan7/33.embed\" height=\"525px\" width=\"100%\"></iframe>"
      ],
      "text/plain": [
       "<plotly.tools.PlotlyDisplay object>"
      ]
     },
     "execution_count": 33,
     "metadata": {},
     "output_type": "execute_result"
    }
   ],
   "source": [
    "trace = update_graph(\"All Managers\")\n",
    "py.iplot([trace], filename='basic_pie_chart')"
   ]
  },
  {
   "cell_type": "code",
   "execution_count": null,
   "metadata": {},
   "outputs": [],
   "source": []
  }
 ],
 "metadata": {
  "kernelspec": {
   "display_name": "Python 3",
   "language": "python",
   "name": "python3"
  },
  "language_info": {
   "codemirror_mode": {
    "name": "ipython",
    "version": 3
   },
   "file_extension": ".py",
   "mimetype": "text/x-python",
   "name": "python",
   "nbconvert_exporter": "python",
   "pygments_lexer": "ipython3",
   "version": "3.6.2"
  }
 },
 "nbformat": 4,
 "nbformat_minor": 2
}
