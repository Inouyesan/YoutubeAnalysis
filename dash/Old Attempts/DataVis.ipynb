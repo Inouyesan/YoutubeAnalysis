{
 "cells": [
  {
   "cell_type": "code",
   "execution_count": 74,
   "metadata": {},
   "outputs": [],
   "source": [
    "import dash\n",
    "from dash.dependencies import Input, Output, Event\n",
    "import dash_core_components as dcc\n",
    "import dash_html_components as html\n",
    "import plotly\n",
    "\n",
    "import flask\n",
    "import glob\n",
    "\n",
    "import plotly.plotly as py\n",
    "import plotly.graph_objs as go\n",
    "import sys\n",
    "import os\n",
    "import csv\n",
    "import pandas as pd\n",
    "import base64\n",
    "\n",
    "import UD as UD\n",
    "\n",
    "path = '/Users/andiedonovan/myProjects/Youtube_Python_Project/AndiesBranch/'\n",
    "\n"
   ]
  },
  {
   "cell_type": "code",
   "execution_count": 75,
   "metadata": {},
   "outputs": [],
   "source": [
    "Ratios = UD.Ratios\n",
    "all_models = UD.all_models\n",
    "model_options = ['label_lr', 'label_mnb', 'label_svm', 'label_rf', 'label_knn']"
   ]
  },
  {
   "cell_type": "code",
   "execution_count": 76,
   "metadata": {},
   "outputs": [
    {
     "data": {
      "text/html": [
       "<div>\n",
       "<style scoped>\n",
       "    .dataframe tbody tr th:only-of-type {\n",
       "        vertical-align: middle;\n",
       "    }\n",
       "\n",
       "    .dataframe tbody tr th {\n",
       "        vertical-align: top;\n",
       "    }\n",
       "\n",
       "    .dataframe thead th {\n",
       "        text-align: right;\n",
       "    }\n",
       "</style>\n",
       "<table border=\"1\" class=\"dataframe\">\n",
       "  <thead>\n",
       "    <tr style=\"text-align: right;\">\n",
       "      <th></th>\n",
       "      <th>label_lr</th>\n",
       "      <th>label_mnb</th>\n",
       "      <th>label_svm</th>\n",
       "      <th>label_rf</th>\n",
       "      <th>label_knn</th>\n",
       "    </tr>\n",
       "  </thead>\n",
       "  <tbody>\n",
       "    <tr>\n",
       "      <th>0</th>\n",
       "      <td>48</td>\n",
       "      <td>49</td>\n",
       "      <td>100</td>\n",
       "      <td>47</td>\n",
       "      <td>32</td>\n",
       "    </tr>\n",
       "    <tr>\n",
       "      <th>1</th>\n",
       "      <td>39</td>\n",
       "      <td>42</td>\n",
       "      <td>0</td>\n",
       "      <td>34</td>\n",
       "      <td>30</td>\n",
       "    </tr>\n",
       "    <tr>\n",
       "      <th>2</th>\n",
       "      <td>13</td>\n",
       "      <td>9</td>\n",
       "      <td>0</td>\n",
       "      <td>19</td>\n",
       "      <td>38</td>\n",
       "    </tr>\n",
       "  </tbody>\n",
       "</table>\n",
       "</div>"
      ],
      "text/plain": [
       "   label_lr  label_mnb  label_svm  label_rf  label_knn\n",
       "0        48         49        100        47         32\n",
       "1        39         42          0        34         30\n",
       "2        13          9          0        19         38"
      ]
     },
     "execution_count": 76,
     "metadata": {},
     "output_type": "execute_result"
    }
   ],
   "source": [
    "Ratios"
   ]
  },
  {
   "cell_type": "code",
   "execution_count": 77,
   "metadata": {},
   "outputs": [],
   "source": [
    "df = UD.df"
   ]
  },
  {
   "cell_type": "code",
   "execution_count": 78,
   "metadata": {},
   "outputs": [
    {
     "data": {
      "text/html": [
       "<div>\n",
       "<style scoped>\n",
       "    .dataframe tbody tr th:only-of-type {\n",
       "        vertical-align: middle;\n",
       "    }\n",
       "\n",
       "    .dataframe tbody tr th {\n",
       "        vertical-align: top;\n",
       "    }\n",
       "\n",
       "    .dataframe thead th {\n",
       "        text-align: right;\n",
       "    }\n",
       "</style>\n",
       "<table border=\"1\" class=\"dataframe\">\n",
       "  <thead>\n",
       "    <tr style=\"text-align: right;\">\n",
       "      <th></th>\n",
       "      <th>comment</th>\n",
       "      <th>label</th>\n",
       "      <th>com_token</th>\n",
       "      <th>com_remv</th>\n",
       "      <th>com_lemma</th>\n",
       "      <th>com_stem</th>\n",
       "      <th>com_stem_str</th>\n",
       "    </tr>\n",
       "  </thead>\n",
       "  <tbody>\n",
       "    <tr>\n",
       "      <th>0</th>\n",
       "      <td>Roses are Red</td>\n",
       "      <td>-1.0</td>\n",
       "      <td>[roses, are, red]</td>\n",
       "      <td>[roses, red]</td>\n",
       "      <td>[rose, red]</td>\n",
       "      <td>[rose, red]</td>\n",
       "      <td>rose, red</td>\n",
       "    </tr>\n",
       "    <tr>\n",
       "      <th>1</th>\n",
       "      <td>Violets are Blue</td>\n",
       "      <td>0.0</td>\n",
       "      <td>[violets, are, blue]</td>\n",
       "      <td>[violets, blue]</td>\n",
       "      <td>[violet, blue]</td>\n",
       "      <td>[violet, blue]</td>\n",
       "      <td>violet, blue</td>\n",
       "    </tr>\n",
       "    <tr>\n",
       "      <th>2</th>\n",
       "      <td>I was so happy</td>\n",
       "      <td>1.0</td>\n",
       "      <td>[i, was, so, happy]</td>\n",
       "      <td>[happy]</td>\n",
       "      <td>[happy]</td>\n",
       "      <td>[happi]</td>\n",
       "      <td>happi</td>\n",
       "    </tr>\n",
       "    <tr>\n",
       "      <th>3</th>\n",
       "      <td>And you shouldve been too</td>\n",
       "      <td>1.0</td>\n",
       "      <td>[and, you, shouldve, been, too]</td>\n",
       "      <td>[shouldve]</td>\n",
       "      <td>[shouldve]</td>\n",
       "      <td>[shouldv]</td>\n",
       "      <td>shouldv</td>\n",
       "    </tr>\n",
       "    <tr>\n",
       "      <th>4</th>\n",
       "      <td>When a pro fifa player plays against the lowes...</td>\n",
       "      <td>0.0</td>\n",
       "      <td>[when, a, pro, fifa, player, plays, against, t...</td>\n",
       "      <td>[pro, fifa, player, plays, lowest, difficulty,...</td>\n",
       "      <td>[pro, fifa, player, play, lowest, difficulty, ...</td>\n",
       "      <td>[pro, fifa, player, play, lowest, difficulti, ...</td>\n",
       "      <td>pro, fifa, player, play, lowest, difficulti, bot</td>\n",
       "    </tr>\n",
       "  </tbody>\n",
       "</table>\n",
       "</div>"
      ],
      "text/plain": [
       "                                             comment  label  \\\n",
       "0                                      Roses are Red   -1.0   \n",
       "1                                   Violets are Blue    0.0   \n",
       "2                                     I was so happy    1.0   \n",
       "3                         And you shouldve been too     1.0   \n",
       "4  When a pro fifa player plays against the lowes...    0.0   \n",
       "\n",
       "                                           com_token  \\\n",
       "0                                  [roses, are, red]   \n",
       "1                               [violets, are, blue]   \n",
       "2                                [i, was, so, happy]   \n",
       "3                    [and, you, shouldve, been, too]   \n",
       "4  [when, a, pro, fifa, player, plays, against, t...   \n",
       "\n",
       "                                            com_remv  \\\n",
       "0                                       [roses, red]   \n",
       "1                                    [violets, blue]   \n",
       "2                                            [happy]   \n",
       "3                                         [shouldve]   \n",
       "4  [pro, fifa, player, plays, lowest, difficulty,...   \n",
       "\n",
       "                                           com_lemma  \\\n",
       "0                                        [rose, red]   \n",
       "1                                     [violet, blue]   \n",
       "2                                            [happy]   \n",
       "3                                         [shouldve]   \n",
       "4  [pro, fifa, player, play, lowest, difficulty, ...   \n",
       "\n",
       "                                            com_stem  \\\n",
       "0                                        [rose, red]   \n",
       "1                                     [violet, blue]   \n",
       "2                                            [happi]   \n",
       "3                                          [shouldv]   \n",
       "4  [pro, fifa, player, play, lowest, difficulti, ...   \n",
       "\n",
       "                                       com_stem_str  \n",
       "0                                         rose, red  \n",
       "1                                      violet, blue  \n",
       "2                                             happi  \n",
       "3                                           shouldv  \n",
       "4  pro, fifa, player, play, lowest, difficulti, bot  "
      ]
     },
     "execution_count": 78,
     "metadata": {},
     "output_type": "execute_result"
    }
   ],
   "source": [
    "df.head(5)"
   ]
  },
  {
   "cell_type": "code",
   "execution_count": 79,
   "metadata": {},
   "outputs": [],
   "source": [
    "import matplotlib.pyplot as plt\n",
    "stop_remv_df = df[\"com_remv\"].apply(', '.join)\n",
    "stop_remv_df = stop_remv_df.str.replace(\",\",\"\").astype(str)\n",
    "most_freq = pd.Series(' '.join(stop_remv_df).lower().split()).value_counts()[:10]"
   ]
  },
  {
   "cell_type": "code",
   "execution_count": 80,
   "metadata": {},
   "outputs": [
    {
     "data": {
      "text/plain": [
       "<matplotlib.axes._subplots.AxesSubplot at 0x1177b3c88>"
      ]
     },
     "execution_count": 80,
     "metadata": {},
     "output_type": "execute_result"
    },
    {
     "data": {
      "image/png": "[encoded data removed]",
      "text/plain": [
       "<matplotlib.figure.Figure at 0x11753c048>"
      ]
     },
     "metadata": {},
     "output_type": "display_data"
    }
   ],
   "source": [
    "most_freq\n",
    "most_freq.plot(kind='bar', title= \"Most Frequent Words in Comments\")"
   ]
  },
  {
   "cell_type": "code",
   "execution_count": 81,
   "metadata": {},
   "outputs": [],
   "source": [
    "WordCounts= pd.DataFrame({'Word':most_freq.index, 'Count':most_freq.values})"
   ]
  },
  {
   "cell_type": "code",
   "execution_count": 120,
   "metadata": {},
   "outputs": [],
   "source": [
    "import plotly.plotly as py\n",
    "import plotly.graph_objs as go\n",
    "\n",
    "import numpy as np\n",
    "df[\"com_remv\"] = df[\"com_remv\"].apply(', '.join)\n",
    "df[\"com_remv\"] = df[\"com_remv\"].str.replace(\",\",\"\").astype(str)"
   ]
  },
  {
   "cell_type": "code",
   "execution_count": 121,
   "metadata": {},
   "outputs": [
    {
     "data": {
      "text/html": [
       "<div>\n",
       "<style scoped>\n",
       "    .dataframe tbody tr th:only-of-type {\n",
       "        vertical-align: middle;\n",
       "    }\n",
       "\n",
       "    .dataframe tbody tr th {\n",
       "        vertical-align: top;\n",
       "    }\n",
       "\n",
       "    .dataframe thead th {\n",
       "        text-align: right;\n",
       "    }\n",
       "</style>\n",
       "<table border=\"1\" class=\"dataframe\">\n",
       "  <thead>\n",
       "    <tr style=\"text-align: right;\">\n",
       "      <th></th>\n",
       "      <th>comment</th>\n",
       "      <th>label</th>\n",
       "      <th>com_token</th>\n",
       "      <th>com_remv</th>\n",
       "      <th>com_lemma</th>\n",
       "      <th>com_stem</th>\n",
       "      <th>com_stem_str</th>\n",
       "    </tr>\n",
       "  </thead>\n",
       "  <tbody>\n",
       "    <tr>\n",
       "      <th>0</th>\n",
       "      <td>Roses are Red</td>\n",
       "      <td>-1.0</td>\n",
       "      <td>[roses, are, red]</td>\n",
       "      <td>roses red</td>\n",
       "      <td>[rose, red]</td>\n",
       "      <td>[rose, red]</td>\n",
       "      <td>rose, red</td>\n",
       "    </tr>\n",
       "    <tr>\n",
       "      <th>1</th>\n",
       "      <td>Violets are Blue</td>\n",
       "      <td>0.0</td>\n",
       "      <td>[violets, are, blue]</td>\n",
       "      <td>violets blue</td>\n",
       "      <td>[violet, blue]</td>\n",
       "      <td>[violet, blue]</td>\n",
       "      <td>violet, blue</td>\n",
       "    </tr>\n",
       "    <tr>\n",
       "      <th>2</th>\n",
       "      <td>I was so happy</td>\n",
       "      <td>1.0</td>\n",
       "      <td>[i, was, so, happy]</td>\n",
       "      <td>happy</td>\n",
       "      <td>[happy]</td>\n",
       "      <td>[happi]</td>\n",
       "      <td>happi</td>\n",
       "    </tr>\n",
       "    <tr>\n",
       "      <th>3</th>\n",
       "      <td>And you shouldve been too</td>\n",
       "      <td>1.0</td>\n",
       "      <td>[and, you, shouldve, been, too]</td>\n",
       "      <td>shouldve</td>\n",
       "      <td>[shouldve]</td>\n",
       "      <td>[shouldv]</td>\n",
       "      <td>shouldv</td>\n",
       "    </tr>\n",
       "    <tr>\n",
       "      <th>4</th>\n",
       "      <td>When a pro fifa player plays against the lowes...</td>\n",
       "      <td>0.0</td>\n",
       "      <td>[when, a, pro, fifa, player, plays, against, t...</td>\n",
       "      <td>pro fifa player plays lowest difficulty bots</td>\n",
       "      <td>[pro, fifa, player, play, lowest, difficulty, ...</td>\n",
       "      <td>[pro, fifa, player, play, lowest, difficulti, ...</td>\n",
       "      <td>pro, fifa, player, play, lowest, difficulti, bot</td>\n",
       "    </tr>\n",
       "  </tbody>\n",
       "</table>\n",
       "</div>"
      ],
      "text/plain": [
       "                                             comment  label  \\\n",
       "0                                      Roses are Red   -1.0   \n",
       "1                                   Violets are Blue    0.0   \n",
       "2                                     I was so happy    1.0   \n",
       "3                         And you shouldve been too     1.0   \n",
       "4  When a pro fifa player plays against the lowes...    0.0   \n",
       "\n",
       "                                           com_token  \\\n",
       "0                                  [roses, are, red]   \n",
       "1                               [violets, are, blue]   \n",
       "2                                [i, was, so, happy]   \n",
       "3                    [and, you, shouldve, been, too]   \n",
       "4  [when, a, pro, fifa, player, plays, against, t...   \n",
       "\n",
       "                                       com_remv  \\\n",
       "0                                     roses red   \n",
       "1                                  violets blue   \n",
       "2                                         happy   \n",
       "3                                      shouldve   \n",
       "4  pro fifa player plays lowest difficulty bots   \n",
       "\n",
       "                                           com_lemma  \\\n",
       "0                                        [rose, red]   \n",
       "1                                     [violet, blue]   \n",
       "2                                            [happy]   \n",
       "3                                         [shouldve]   \n",
       "4  [pro, fifa, player, play, lowest, difficulty, ...   \n",
       "\n",
       "                                            com_stem  \\\n",
       "0                                        [rose, red]   \n",
       "1                                     [violet, blue]   \n",
       "2                                            [happi]   \n",
       "3                                          [shouldv]   \n",
       "4  [pro, fifa, player, play, lowest, difficulti, ...   \n",
       "\n",
       "                                       com_stem_str  \n",
       "0                                         rose, red  \n",
       "1                                      violet, blue  \n",
       "2                                             happi  \n",
       "3                                           shouldv  \n",
       "4  pro, fifa, player, play, lowest, difficulti, bot  "
      ]
     },
     "execution_count": 121,
     "metadata": {},
     "output_type": "execute_result"
    }
   ],
   "source": [
    "df.head(5)"
   ]
  },
  {
   "cell_type": "code",
   "execution_count": 127,
   "metadata": {},
   "outputs": [],
   "source": [
    "positive = df[df[\"label\"]==1]\n",
    "positive = positive[\"com_remv\"]\n",
    "negative = df[df[\"label\"]==-1]\n",
    "negative = negative[\"com_remv\"]\n",
    "neutral = df[df[\"label\"]==0]\n",
    "neutral = neutral[\"com_remv\"]"
   ]
  },
  {
   "cell_type": "code",
   "execution_count": 129,
   "metadata": {},
   "outputs": [],
   "source": [
    "most_freq_pos = pd.Series(' '.join(positive).lower().split()).value_counts()[:10]\n",
    "most_freq_neg = pd.Series(' '.join(negative).lower().split()).value_counts()[:10]\n",
    "most_freq_neu = pd.Series(' '.join(neutral).lower().split()).value_counts()[:10]"
   ]
  },
  {
   "cell_type": "code",
   "execution_count": 130,
   "metadata": {},
   "outputs": [],
   "source": [
    "#most_freq_pos.index"
   ]
  },
  {
   "cell_type": "code",
   "execution_count": 131,
   "metadata": {},
   "outputs": [
    {
     "data": {
      "text/html": [
       "<iframe id=\"igraph\" scrolling=\"no\" style=\"border:none;\" seamless=\"seamless\" src=\"https://plot.ly/~adonovan7/35.embed\" height=\"525px\" width=\"100%\"></iframe>"
      ],
      "text/plain": [
       "<plotly.tools.PlotlyDisplay object>"
      ]
     },
     "execution_count": 131,
     "metadata": {},
     "output_type": "execute_result"
    }
   ],
   "source": [
    "trace0 = go.Bar(\n",
    "    x = most_freq_pos.index,\n",
    "    y = most_freq_pos.values,\n",
    "    marker=dict(color='#835AF1')\n",
    ")\n",
    "trace1 = go.Bar(\n",
    "    x = most_freq_neu.index,\n",
    "    y = most_freq_neu.values,\n",
    "    marker=dict(color='#7FA6EE')\n",
    ")\n",
    "trace2 = go.Bar(\n",
    "    x = most_freq_neg.index,\n",
    "    y = most_freq_neg.values,\n",
    "    marker=dict(color='#B8F7D4')\n",
    ")\n",
    "data = [trace0, trace1, trace2]\n",
    "\n",
    "updatemenus = list([\n",
    "    dict(type=\"buttons\",\n",
    "         active=-1,\n",
    "         buttons=list([   \n",
    "            dict(label = 'Positive',\n",
    "                 method = 'update',\n",
    "                 args = [{'visible': [True, False, False]},\n",
    "                         {'title': 'Positive Comments'}]),\n",
    "            dict(label = 'Neutral',\n",
    "                 method = 'update',\n",
    "                 args = [{'visible': [False, True, False]},\n",
    "                         {'title': 'Neutral Comments'}]),\n",
    "            dict(label = 'Negative',\n",
    "                 method = 'update',\n",
    "                 args = [{'visible': [False, False, True]},\n",
    "                         {'title': 'Negative Comments'}]),\n",
    "            dict(label = 'All',\n",
    "                 method = 'update',\n",
    "                 args = [{'visible': [True, True, True, True]},\n",
    "                         {'title': 'All Comments'}])\n",
    "         ]),\n",
    "        )\n",
    "])\n",
    "                \n",
    "\n",
    "layout = dict(title='Word Frequency by Sentiment', showlegend=False,\n",
    "              updatemenus=updatemenus)\n",
    "\n",
    "fig = dict(data=data, layout=layout)\n",
    "\n",
    "py.iplot(fig, filename='relayout_option')"
   ]
  },
  {
   "cell_type": "code",
   "execution_count": null,
   "metadata": {},
   "outputs": [],
   "source": []
  }
 ],
 "metadata": {
  "kernelspec": {
   "display_name": "Python 3",
   "language": "python",
   "name": "python3"
  },
  "language_info": {
   "codemirror_mode": {
    "name": "ipython",
    "version": 3
   },
   "file_extension": ".py",
   "mimetype": "text/x-python",
   "name": "python",
   "nbconvert_exporter": "python",
   "pygments_lexer": "ipython3",
   "version": "3.6.2"
  }
 },
 "nbformat": 4,
 "nbformat_minor": 2
}
