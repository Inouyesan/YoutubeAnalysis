{
 "cells": [
  {
   "cell_type": "code",
   "execution_count": 1,
   "metadata": {},
   "outputs": [],
   "source": [
    "import dash\n",
    "from dash.dependencies import Input, Output, Event\n",
    "import dash_core_components as dcc\n",
    "import dash_html_components as html\n",
    "import plotly\n",
    "\n",
    "import plotly.plotly as py\n",
    "import plotly.graph_objs as go\n",
    "import sys\n",
    "import os\n",
    "import csv\n",
    "import pandas as pd\n",
    "\n",
    "import UD as UD\n",
    "\n",
    "path = '/Users/andiedonovan/myProjects/Youtube_Python_Project/AndiesBranch/'\n",
    "os.chdir(path + 'dash/')\n",
    "#sys.path.insert(0, path +'dash')\n",
    "\n",
    "app = dash.Dash()\n",
    "\n",
    "df = UD.Ratios\n",
    "all_models = UD.all_models\n",
    "model_options = list(df)\n",
    "\n",
    "\n",
    "def update_graph(Model):\n",
    "    if Model == \"All Models\"\n",
    "    else:\n",
    "        df_plot = df[str(Model)]\n",
    "        values= list(df_plot)\n",
    "\n",
    "    trace = go.Pie(labels=[\"Positive\", \"Negative\",\"Neutral\"], values=values, name='MyModel')\n",
    "    \n",
    "    return {\n",
    "        'data': trace,\n",
    "        'layout':\n",
    "        go.Layout(\n",
    "            title='Sentiment Ratios as Predicted by {}'.format(Model))\n",
    "    }"
   ]
  },
  {
   "cell_type": "code",
   "execution_count": 5,
   "metadata": {},
   "outputs": [
    {
     "data": {
      "text/plain": [
       "0   -1.0\n",
       "1    0.0\n",
       "2    1.0\n",
       "Name: average, dtype: float64"
      ]
     },
     "execution_count": 5,
     "metadata": {},
     "output_type": "execute_result"
    }
   ],
   "source": [
    "all_models[\"average\"]"
   ]
  },
  {
   "cell_type": "code",
   "execution_count": 2,
   "metadata": {},
   "outputs": [
    {
     "data": {
      "text/plain": [
       "['label_lr', 'label_mnb', 'label_svm', 'label_rf', 'label_knn']"
      ]
     },
     "execution_count": 2,
     "metadata": {},
     "output_type": "execute_result"
    }
   ],
   "source": [
    "model_options"
   ]
  },
  {
   "cell_type": "code",
   "execution_count": 4,
   "metadata": {},
   "outputs": [
    {
     "data": {
      "text/plain": [
       "{'data': {'labels': ['Positive', 'Negative', 'Neutral'],\n",
       "  'name': 'MyModel',\n",
       "  'type': 'pie',\n",
       "  'values': 0   -1.0\n",
       "  1    0.0\n",
       "  2    1.0\n",
       "  Name: average, dtype: float64},\n",
       " 'layout': {'title': 'Sentiment Ratios as Predicted by All Models'}}"
      ]
     },
     "execution_count": 4,
     "metadata": {},
     "output_type": "execute_result"
    }
   ],
   "source": [
    "update_graph(\"All Models\")"
   ]
  },
  {
   "cell_type": "code",
   "execution_count": 7,
   "metadata": {},
   "outputs": [
    {
     "data": {
      "text/plain": [
       "[48, 39, 13]"
      ]
     },
     "execution_count": 7,
     "metadata": {},
     "output_type": "execute_result"
    }
   ],
   "source": [
    "Model = 'label_lr'\n",
    "list(df[str(Model)])"
   ]
  },
  {
   "cell_type": "code",
   "execution_count": null,
   "metadata": {},
   "outputs": [],
   "source": []
  }
 ],
 "metadata": {
  "kernelspec": {
   "display_name": "Python 3",
   "language": "python",
   "name": "python3"
  },
  "language_info": {
   "codemirror_mode": {
    "name": "ipython",
    "version": 3
   },
   "file_extension": ".py",
   "mimetype": "text/x-python",
   "name": "python",
   "nbconvert_exporter": "python",
   "pygments_lexer": "ipython3",
   "version": "3.6.2"
  }
 },
 "nbformat": 4,
 "nbformat_minor": 2
}
